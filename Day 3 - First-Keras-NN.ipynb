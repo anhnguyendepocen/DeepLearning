{
 "cells": [
  {
   "cell_type": "code",
   "execution_count": 1,
   "metadata": {},
   "outputs": [
    {
     "name": "stdout",
     "output_type": "stream",
     "text": [
      "Requirement already satisfied: keras in /home/onepanel/.conda/lib/python3.6/site-packages (2.2.4)\n",
      "Requirement already satisfied: numpy>=1.9.1 in /home/onepanel/.conda/lib/python3.6/site-packages (from keras) (1.15.3)\n",
      "Requirement already satisfied: scipy>=0.14 in /home/onepanel/.conda/lib/python3.6/site-packages (from keras) (1.1.0)\n",
      "Requirement already satisfied: six>=1.9.0 in /home/onepanel/.conda/lib/python3.6/site-packages (from keras) (1.11.0)\n",
      "Requirement already satisfied: pyyaml in /home/onepanel/.conda/lib/python3.6/site-packages (from keras) (3.13)\n",
      "Requirement already satisfied: h5py in /home/onepanel/.conda/lib/python3.6/site-packages (from keras) (2.8.0)\n",
      "Requirement already satisfied: keras_applications>=1.0.6 in /home/onepanel/.conda/lib/python3.6/site-packages (from keras) (1.0.6)\n",
      "Requirement already satisfied: keras_preprocessing>=1.0.5 in /home/onepanel/.conda/lib/python3.6/site-packages (from keras) (1.0.5)\n",
      "\u001b[31mmkl-devel 2018.0.3 has requirement mkl==2018.0.3, but you'll have mkl 2019.0 which is incompatible.\u001b[0m\n",
      "\u001b[33mYou are using pip version 10.0.1, however version 18.1 is available.\n",
      "You should consider upgrading via the 'pip install --upgrade pip' command.\u001b[0m\n"
     ]
    }
   ],
   "source": [
    "!pip install keras"
   ]
  },
  {
   "cell_type": "code",
   "execution_count": 2,
   "metadata": {},
   "outputs": [
    {
     "name": "stderr",
     "output_type": "stream",
     "text": [
      "Using TensorFlow backend.\n"
     ]
    }
   ],
   "source": [
    "import keras"
   ]
  },
  {
   "cell_type": "code",
   "execution_count": 3,
   "metadata": {},
   "outputs": [
    {
     "data": {
      "text/plain": [
       "'2.2.4'"
      ]
     },
     "execution_count": 3,
     "metadata": {},
     "output_type": "execute_result"
    }
   ],
   "source": [
    "keras.__version__"
   ]
  },
  {
   "cell_type": "code",
   "execution_count": 4,
   "metadata": {},
   "outputs": [],
   "source": [
    "from keras.datasets import mnist"
   ]
  },
  {
   "cell_type": "code",
   "execution_count": 5,
   "metadata": {},
   "outputs": [],
   "source": [
    "(train_images, train_labels), (test_images, test_labels) = mnist.load_data()"
   ]
  },
  {
   "cell_type": "code",
   "execution_count": 6,
   "metadata": {},
   "outputs": [
    {
     "data": {
      "text/plain": [
       "(60000, 28, 28)"
      ]
     },
     "execution_count": 6,
     "metadata": {},
     "output_type": "execute_result"
    }
   ],
   "source": [
    "train_images.shape"
   ]
  },
  {
   "cell_type": "code",
   "execution_count": 7,
   "metadata": {},
   "outputs": [
    {
     "data": {
      "text/plain": [
       "60000"
      ]
     },
     "execution_count": 7,
     "metadata": {},
     "output_type": "execute_result"
    }
   ],
   "source": [
    "len(train_labels)"
   ]
  },
  {
   "cell_type": "code",
   "execution_count": 8,
   "metadata": {},
   "outputs": [
    {
     "data": {
      "text/plain": [
       "array([5, 0, 4, ..., 5, 6, 8], dtype=uint8)"
      ]
     },
     "execution_count": 8,
     "metadata": {},
     "output_type": "execute_result"
    }
   ],
   "source": [
    "train_labels"
   ]
  },
  {
   "cell_type": "code",
   "execution_count": 9,
   "metadata": {},
   "outputs": [
    {
     "data": {
      "text/plain": [
       "(10000, 28, 28)"
      ]
     },
     "execution_count": 9,
     "metadata": {},
     "output_type": "execute_result"
    }
   ],
   "source": [
    "test_images.shape"
   ]
  },
  {
   "cell_type": "code",
   "execution_count": 10,
   "metadata": {},
   "outputs": [
    {
     "data": {
      "text/plain": [
       "10000"
      ]
     },
     "execution_count": 10,
     "metadata": {},
     "output_type": "execute_result"
    }
   ],
   "source": [
    "len(test_labels)"
   ]
  },
  {
   "cell_type": "code",
   "execution_count": 11,
   "metadata": {},
   "outputs": [
    {
     "data": {
      "text/plain": [
       "array([7, 2, 1, ..., 4, 5, 6], dtype=uint8)"
      ]
     },
     "execution_count": 11,
     "metadata": {},
     "output_type": "execute_result"
    }
   ],
   "source": [
    "test_labels"
   ]
  },
  {
   "cell_type": "code",
   "execution_count": 12,
   "metadata": {},
   "outputs": [],
   "source": [
    "from keras import models\n",
    "from keras import layers\n",
    "from keras.utils import to_categorical"
   ]
  },
  {
   "cell_type": "code",
   "execution_count": 13,
   "metadata": {},
   "outputs": [],
   "source": [
    "network = models.Sequential()\n",
    "network.add(layers.Dense(512, activation='relu', input_shape=(28*28,)))\n",
    "network.add(layers.Dense(10, activation='softmax'))"
   ]
  },
  {
   "cell_type": "code",
   "execution_count": 14,
   "metadata": {},
   "outputs": [],
   "source": [
    "network.compile(optimizer = 'adam', loss = 'categorical_crossentropy', metrics = ['accuracy'])"
   ]
  },
  {
   "cell_type": "code",
   "execution_count": 15,
   "metadata": {},
   "outputs": [],
   "source": [
    "train_images = train_images.reshape((60000, 28*28))\n",
    "train_images = train_images.astype('float32')/255\n",
    "test_images = test_images.reshape((10000, 28*28))\n",
    "test_images = test_images.astype('float32')/255"
   ]
  },
  {
   "cell_type": "code",
   "execution_count": 16,
   "metadata": {},
   "outputs": [],
   "source": [
    "train_labels = to_categorical(train_labels)\n",
    "test_labels = to_categorical(test_labels)"
   ]
  },
  {
   "cell_type": "code",
   "execution_count": 17,
   "metadata": {},
   "outputs": [
    {
     "name": "stdout",
     "output_type": "stream",
     "text": [
      "Epoch 1/100\n",
      "60000/60000 [==============================] - 2s 38us/step - loss: 0.2707 - acc: 0.9234\n",
      "Epoch 2/100\n",
      "60000/60000 [==============================] - 2s 26us/step - loss: 0.1092 - acc: 0.9683\n",
      "Epoch 3/100\n",
      "60000/60000 [==============================] - 2s 27us/step - loss: 0.0721 - acc: 0.9793\n",
      "Epoch 4/100\n",
      "60000/60000 [==============================] - 2s 26us/step - loss: 0.0505 - acc: 0.9852\n",
      "Epoch 5/100\n",
      "60000/60000 [==============================] - 2s 26us/step - loss: 0.0373 - acc: 0.9891\n",
      "Epoch 6/100\n",
      "60000/60000 [==============================] - 2s 26us/step - loss: 0.0274 - acc: 0.9925\n",
      "Epoch 7/100\n",
      "60000/60000 [==============================] - 2s 26us/step - loss: 0.0207 - acc: 0.9944\n",
      "Epoch 8/100\n",
      "60000/60000 [==============================] - 2s 26us/step - loss: 0.0154 - acc: 0.9959\n",
      "Epoch 9/100\n",
      "60000/60000 [==============================] - 2s 26us/step - loss: 0.0134 - acc: 0.9965\n",
      "Epoch 10/100\n",
      "60000/60000 [==============================] - 2s 26us/step - loss: 0.0107 - acc: 0.9974\n",
      "Epoch 11/100\n",
      "60000/60000 [==============================] - 2s 26us/step - loss: 0.0074 - acc: 0.9983\n",
      "Epoch 12/100\n",
      "60000/60000 [==============================] - 2s 26us/step - loss: 0.0053 - acc: 0.9991\n",
      "Epoch 13/100\n",
      "60000/60000 [==============================] - 2s 26us/step - loss: 0.0045 - acc: 0.9990\n",
      "Epoch 14/100\n",
      "60000/60000 [==============================] - 2s 26us/step - loss: 0.0101 - acc: 0.9969\n",
      "Epoch 15/100\n",
      "60000/60000 [==============================] - 2s 26us/step - loss: 0.0063 - acc: 0.9983\n",
      "Epoch 16/100\n",
      "60000/60000 [==============================] - 2s 26us/step - loss: 0.0033 - acc: 0.9994\n",
      "Epoch 17/100\n",
      "60000/60000 [==============================] - 2s 26us/step - loss: 0.0053 - acc: 0.9985\n",
      "Epoch 18/100\n",
      "60000/60000 [==============================] - 2s 26us/step - loss: 9.9596e-04 - acc: 1.0000\n",
      "Epoch 19/100\n",
      "60000/60000 [==============================] - 2s 26us/step - loss: 4.1454e-04 - acc: 1.0000\n",
      "Epoch 20/100\n",
      "60000/60000 [==============================] - 2s 26us/step - loss: 2.7734e-04 - acc: 1.0000\n",
      "Epoch 21/100\n",
      "60000/60000 [==============================] - 2s 27us/step - loss: 2.8872e-04 - acc: 1.0000\n",
      "Epoch 22/100\n",
      "60000/60000 [==============================] - 2s 26us/step - loss: 2.0647e-04 - acc: 1.0000\n",
      "Epoch 23/100\n",
      "60000/60000 [==============================] - 2s 26us/step - loss: 1.6130e-04 - acc: 1.0000\n",
      "Epoch 24/100\n",
      "60000/60000 [==============================] - 2s 26us/step - loss: 1.7873e-04 - acc: 1.0000\n",
      "Epoch 25/100\n",
      "60000/60000 [==============================] - 2s 26us/step - loss: 0.0221 - acc: 0.9926\n",
      "Epoch 26/100\n",
      "60000/60000 [==============================] - 2s 26us/step - loss: 0.0040 - acc: 0.9989\n",
      "Epoch 27/100\n",
      "60000/60000 [==============================] - 2s 26us/step - loss: 0.0012 - acc: 0.9998\n",
      "Epoch 28/100\n",
      "60000/60000 [==============================] - 2s 26us/step - loss: 2.9088e-04 - acc: 1.0000\n",
      "Epoch 29/100\n",
      "60000/60000 [==============================] - 2s 26us/step - loss: 1.7158e-04 - acc: 1.0000\n",
      "Epoch 30/100\n",
      "60000/60000 [==============================] - 2s 26us/step - loss: 1.3615e-04 - acc: 1.0000\n",
      "Epoch 31/100\n",
      "60000/60000 [==============================] - 2s 26us/step - loss: 1.1183e-04 - acc: 1.0000\n",
      "Epoch 32/100\n",
      "60000/60000 [==============================] - 2s 26us/step - loss: 9.5924e-05 - acc: 1.0000\n",
      "Epoch 33/100\n",
      "60000/60000 [==============================] - 2s 26us/step - loss: 8.0729e-05 - acc: 1.0000\n",
      "Epoch 34/100\n",
      "60000/60000 [==============================] - 2s 26us/step - loss: 6.9258e-05 - acc: 1.0000\n",
      "Epoch 35/100\n",
      "60000/60000 [==============================] - 2s 26us/step - loss: 6.0104e-05 - acc: 1.0000\n",
      "Epoch 36/100\n",
      "60000/60000 [==============================] - 2s 26us/step - loss: 5.3276e-05 - acc: 1.0000\n",
      "Epoch 37/100\n",
      "60000/60000 [==============================] - 2s 26us/step - loss: 4.5409e-05 - acc: 1.0000\n",
      "Epoch 38/100\n",
      "60000/60000 [==============================] - 2s 26us/step - loss: 3.8252e-05 - acc: 1.0000\n",
      "Epoch 39/100\n",
      "60000/60000 [==============================] - 2s 26us/step - loss: 3.1505e-05 - acc: 1.0000\n",
      "Epoch 40/100\n",
      "60000/60000 [==============================] - 2s 26us/step - loss: 0.0176 - acc: 0.9949\n",
      "Epoch 41/100\n",
      "60000/60000 [==============================] - 2s 27us/step - loss: 0.0047 - acc: 0.9985\n",
      "Epoch 42/100\n",
      "60000/60000 [==============================] - 2s 26us/step - loss: 0.0016 - acc: 0.9995\n",
      "Epoch 43/100\n",
      "60000/60000 [==============================] - 2s 26us/step - loss: 3.0453e-04 - acc: 1.0000\n",
      "Epoch 44/100\n",
      "60000/60000 [==============================] - 2s 26us/step - loss: 1.2931e-04 - acc: 1.0000\n",
      "Epoch 45/100\n",
      "60000/60000 [==============================] - 2s 26us/step - loss: 8.3510e-05 - acc: 1.0000\n",
      "Epoch 46/100\n",
      "60000/60000 [==============================] - 2s 26us/step - loss: 6.6929e-05 - acc: 1.0000\n",
      "Epoch 47/100\n",
      "60000/60000 [==============================] - 2s 26us/step - loss: 5.6129e-05 - acc: 1.0000\n",
      "Epoch 48/100\n",
      "60000/60000 [==============================] - 2s 26us/step - loss: 4.6622e-05 - acc: 1.0000\n",
      "Epoch 49/100\n",
      "60000/60000 [==============================] - 2s 26us/step - loss: 3.9985e-05 - acc: 1.0000\n",
      "Epoch 50/100\n",
      "60000/60000 [==============================] - 2s 26us/step - loss: 3.4534e-05 - acc: 1.0000\n",
      "Epoch 51/100\n",
      "60000/60000 [==============================] - 2s 26us/step - loss: 2.9249e-05 - acc: 1.0000\n",
      "Epoch 52/100\n",
      "60000/60000 [==============================] - 2s 26us/step - loss: 2.4812e-05 - acc: 1.0000\n",
      "Epoch 53/100\n",
      "60000/60000 [==============================] - 2s 26us/step - loss: 2.1064e-05 - acc: 1.0000\n",
      "Epoch 54/100\n",
      "60000/60000 [==============================] - 2s 26us/step - loss: 1.7799e-05 - acc: 1.0000\n",
      "Epoch 55/100\n",
      "60000/60000 [==============================] - 2s 26us/step - loss: 1.5111e-05 - acc: 1.0000\n",
      "Epoch 56/100\n",
      "60000/60000 [==============================] - 2s 26us/step - loss: 1.2874e-05 - acc: 1.0000\n",
      "Epoch 57/100\n",
      "60000/60000 [==============================] - 2s 26us/step - loss: 1.0619e-05 - acc: 1.0000\n",
      "Epoch 58/100\n",
      "60000/60000 [==============================] - 2s 26us/step - loss: 9.7787e-06 - acc: 1.0000\n",
      "Epoch 59/100\n",
      "60000/60000 [==============================] - 2s 26us/step - loss: 0.0212 - acc: 0.9938\n",
      "Epoch 60/100\n",
      "60000/60000 [==============================] - 2s 26us/step - loss: 0.0025 - acc: 0.9991\n",
      "Epoch 61/100\n",
      "60000/60000 [==============================] - 2s 26us/step - loss: 9.6356e-04 - acc: 0.9997\n",
      "Epoch 62/100\n",
      "60000/60000 [==============================] - 2s 26us/step - loss: 5.5637e-04 - acc: 0.9999\n",
      "Epoch 63/100\n",
      "60000/60000 [==============================] - 2s 26us/step - loss: 7.2487e-05 - acc: 1.0000\n",
      "Epoch 64/100\n",
      "60000/60000 [==============================] - 2s 26us/step - loss: 4.9075e-05 - acc: 1.0000\n",
      "Epoch 65/100\n",
      "60000/60000 [==============================] - 2s 26us/step - loss: 3.9450e-05 - acc: 1.0000\n",
      "Epoch 66/100\n",
      "60000/60000 [==============================] - 2s 26us/step - loss: 3.2764e-05 - acc: 1.0000\n",
      "Epoch 67/100\n",
      "60000/60000 [==============================] - 2s 26us/step - loss: 2.7176e-05 - acc: 1.0000\n",
      "Epoch 68/100\n",
      "60000/60000 [==============================] - 2s 26us/step - loss: 2.2989e-05 - acc: 1.0000\n",
      "Epoch 69/100\n",
      "60000/60000 [==============================] - 2s 26us/step - loss: 1.9839e-05 - acc: 1.0000\n",
      "Epoch 70/100\n",
      "60000/60000 [==============================] - 2s 26us/step - loss: 1.6710e-05 - acc: 1.0000\n",
      "Epoch 71/100\n",
      "60000/60000 [==============================] - 2s 26us/step - loss: 1.4083e-05 - acc: 1.0000\n",
      "Epoch 72/100\n",
      "60000/60000 [==============================] - 2s 26us/step - loss: 1.1966e-05 - acc: 1.0000\n",
      "Epoch 73/100\n",
      "60000/60000 [==============================] - 2s 27us/step - loss: 1.0187e-05 - acc: 1.0000\n",
      "Epoch 74/100\n",
      "60000/60000 [==============================] - 2s 26us/step - loss: 8.6412e-06 - acc: 1.0000\n",
      "Epoch 75/100\n",
      "60000/60000 [==============================] - 2s 26us/step - loss: 7.3549e-06 - acc: 1.0000\n",
      "Epoch 76/100\n",
      "60000/60000 [==============================] - 2s 26us/step - loss: 6.2417e-06 - acc: 1.0000\n",
      "Epoch 77/100\n",
      "60000/60000 [==============================] - 2s 26us/step - loss: 5.3651e-06 - acc: 1.0000\n",
      "Epoch 78/100\n",
      "60000/60000 [==============================] - 2s 26us/step - loss: 4.6130e-06 - acc: 1.0000\n",
      "Epoch 79/100\n",
      "60000/60000 [==============================] - 2s 26us/step - loss: 3.8238e-06 - acc: 1.0000\n",
      "Epoch 80/100\n",
      "60000/60000 [==============================] - 2s 27us/step - loss: 3.3072e-06 - acc: 1.0000\n",
      "Epoch 81/100\n",
      "60000/60000 [==============================] - 2s 27us/step - loss: 2.7408e-06 - acc: 1.0000\n",
      "Epoch 82/100\n",
      "60000/60000 [==============================] - 2s 26us/step - loss: 2.4014e-06 - acc: 1.0000\n",
      "Epoch 83/100\n",
      "60000/60000 [==============================] - 2s 26us/step - loss: 0.0233 - acc: 0.9943\n",
      "Epoch 84/100\n",
      "60000/60000 [==============================] - 2s 26us/step - loss: 0.0022 - acc: 0.9992\n",
      "Epoch 85/100\n",
      "60000/60000 [==============================] - 2s 26us/step - loss: 3.4073e-04 - acc: 0.9999\n",
      "Epoch 86/100\n",
      "60000/60000 [==============================] - 2s 26us/step - loss: 5.0770e-05 - acc: 1.0000\n",
      "Epoch 87/100\n",
      "60000/60000 [==============================] - 2s 26us/step - loss: 3.3277e-05 - acc: 1.0000\n",
      "Epoch 88/100\n",
      "60000/60000 [==============================] - 2s 26us/step - loss: 2.6142e-05 - acc: 1.0000\n",
      "Epoch 89/100\n",
      "60000/60000 [==============================] - 2s 26us/step - loss: 2.1935e-05 - acc: 1.0000\n",
      "Epoch 90/100\n",
      "60000/60000 [==============================] - 2s 26us/step - loss: 1.8531e-05 - acc: 1.0000\n",
      "Epoch 91/100\n",
      "60000/60000 [==============================] - 2s 26us/step - loss: 1.5831e-05 - acc: 1.0000\n",
      "Epoch 92/100\n",
      "60000/60000 [==============================] - 2s 26us/step - loss: 1.3552e-05 - acc: 1.0000\n",
      "Epoch 93/100\n",
      "60000/60000 [==============================] - 2s 26us/step - loss: 1.1640e-05 - acc: 1.0000\n",
      "Epoch 94/100\n",
      "60000/60000 [==============================] - 2s 26us/step - loss: 9.9492e-06 - acc: 1.0000\n",
      "Epoch 95/100\n",
      "60000/60000 [==============================] - 2s 26us/step - loss: 8.4640e-06 - acc: 1.0000\n",
      "Epoch 96/100\n",
      "60000/60000 [==============================] - 2s 26us/step - loss: 7.2395e-06 - acc: 1.0000\n",
      "Epoch 97/100\n",
      "60000/60000 [==============================] - 2s 27us/step - loss: 6.1824e-06 - acc: 1.0000\n",
      "Epoch 98/100\n",
      "60000/60000 [==============================] - 2s 27us/step - loss: 5.2763e-06 - acc: 1.0000\n",
      "Epoch 99/100\n",
      "60000/60000 [==============================] - 2s 26us/step - loss: 4.5219e-06 - acc: 1.0000\n",
      "Epoch 100/100\n",
      "60000/60000 [==============================] - 2s 27us/step - loss: 3.8459e-06 - acc: 1.0000\n"
     ]
    },
    {
     "data": {
      "text/plain": [
       "<keras.callbacks.History at 0x7f05a0419668>"
      ]
     },
     "execution_count": 17,
     "metadata": {},
     "output_type": "execute_result"
    }
   ],
   "source": [
    "network.fit(train_images, train_labels, epochs = 100, batch_size = 128)"
   ]
  },
  {
   "cell_type": "code",
   "execution_count": 18,
   "metadata": {},
   "outputs": [
    {
     "name": "stdout",
     "output_type": "stream",
     "text": [
      "10000/10000 [==============================] - 0s 38us/step\n"
     ]
    }
   ],
   "source": [
    "test_loss, test_acc = network.evaluate(test_images, test_labels)"
   ]
  },
  {
   "cell_type": "code",
   "execution_count": 19,
   "metadata": {},
   "outputs": [
    {
     "name": "stdout",
     "output_type": "stream",
     "text": [
      "test_acc is:  0.9838\n"
     ]
    }
   ],
   "source": [
    "print('test_acc is: ', test_acc)"
   ]
  }
 ],
 "metadata": {
  "kernelspec": {
   "display_name": "Python 3",
   "language": "python",
   "name": "python3"
  },
  "language_info": {
   "codemirror_mode": {
    "name": "ipython",
    "version": 3
   },
   "file_extension": ".py",
   "mimetype": "text/x-python",
   "name": "python",
   "nbconvert_exporter": "python",
   "pygments_lexer": "ipython3",
   "version": "3.6.5"
  }
 },
 "nbformat": 4,
 "nbformat_minor": 2
}
