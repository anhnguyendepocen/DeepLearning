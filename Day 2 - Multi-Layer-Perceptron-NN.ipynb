{
 "cells": [
  {
   "cell_type": "code",
   "execution_count": 1,
   "metadata": {},
   "outputs": [
    {
     "name": "stdout",
     "output_type": "stream",
     "text": [
      "WARNING:tensorflow:From <ipython-input-1-9223c09bcae1>:3: read_data_sets (from tensorflow.contrib.learn.python.learn.datasets.mnist) is deprecated and will be removed in a future version.\n",
      "Instructions for updating:\n",
      "Please use alternatives such as official/mnist/dataset.py from tensorflow/models.\n",
      "WARNING:tensorflow:From /home/onepanel/.conda/lib/python3.6/site-packages/tensorflow/contrib/learn/python/learn/datasets/mnist.py:260: maybe_download (from tensorflow.contrib.learn.python.learn.datasets.base) is deprecated and will be removed in a future version.\n",
      "Instructions for updating:\n",
      "Please write your own downloading logic.\n",
      "WARNING:tensorflow:From /home/onepanel/.conda/lib/python3.6/site-packages/tensorflow/contrib/learn/python/learn/datasets/mnist.py:262: extract_images (from tensorflow.contrib.learn.python.learn.datasets.mnist) is deprecated and will be removed in a future version.\n",
      "Instructions for updating:\n",
      "Please use tf.data to implement this functionality.\n",
      "Extracting MNIST_data/train-images-idx3-ubyte.gz\n",
      "WARNING:tensorflow:From /home/onepanel/.conda/lib/python3.6/site-packages/tensorflow/contrib/learn/python/learn/datasets/mnist.py:267: extract_labels (from tensorflow.contrib.learn.python.learn.datasets.mnist) is deprecated and will be removed in a future version.\n",
      "Instructions for updating:\n",
      "Please use tf.data to implement this functionality.\n",
      "Extracting MNIST_data/train-labels-idx1-ubyte.gz\n",
      "WARNING:tensorflow:From /home/onepanel/.conda/lib/python3.6/site-packages/tensorflow/contrib/learn/python/learn/datasets/mnist.py:110: dense_to_one_hot (from tensorflow.contrib.learn.python.learn.datasets.mnist) is deprecated and will be removed in a future version.\n",
      "Instructions for updating:\n",
      "Please use tf.one_hot on tensors.\n",
      "Extracting MNIST_data/t10k-images-idx3-ubyte.gz\n",
      "Extracting MNIST_data/t10k-labels-idx1-ubyte.gz\n",
      "WARNING:tensorflow:From /home/onepanel/.conda/lib/python3.6/site-packages/tensorflow/contrib/learn/python/learn/datasets/mnist.py:290: DataSet.__init__ (from tensorflow.contrib.learn.python.learn.datasets.mnist) is deprecated and will be removed in a future version.\n",
      "Instructions for updating:\n",
      "Please use alternatives such as official/mnist/dataset.py from tensorflow/models.\n"
     ]
    }
   ],
   "source": [
    "import tensorflow as tf\n",
    "from tensorflow.examples.tutorials.mnist import input_data\n",
    "mnist = input_data.read_data_sets(\"MNIST_data\", one_hot = True)"
   ]
  },
  {
   "cell_type": "markdown",
   "metadata": {},
   "source": [
    "## ** What are we going to do**\n",
    "\n",
    "We are going to pretend as if we have a sophisticated NN (without CNN brain)\n",
    "1. Hyperparameters\n",
    "2. Network Parameters\n",
    "3. TF Graph Input\n",
    "4. MLP Model\n",
    "5. Weights, Biases, Cost, Optimizer\n",
    "6. Running and evaluating the accuracy"
   ]
  },
  {
   "cell_type": "code",
   "execution_count": 2,
   "metadata": {},
   "outputs": [],
   "source": [
    "# Parameters\n",
    "learning_rate = 0.001\n",
    "training_epochs = 100\n",
    "batch_size = 100"
   ]
  },
  {
   "cell_type": "code",
   "execution_count": 3,
   "metadata": {},
   "outputs": [],
   "source": [
    "# Network Paramenters\n",
    "n_hidden_1 = 256\n",
    "n_hidden_2 = 256\n",
    "n_input = 784\n",
    "n_classes = 10\n",
    "n_samples = mnist.train.num_examples"
   ]
  },
  {
   "cell_type": "code",
   "execution_count": 4,
   "metadata": {},
   "outputs": [],
   "source": [
    "# TF Graph Input\n",
    "x = tf.placeholder(\"float\", [None, n_input])\n",
    "y = tf.placeholder(\"float\", [None, n_classes])"
   ]
  },
  {
   "cell_type": "code",
   "execution_count": 5,
   "metadata": {},
   "outputs": [],
   "source": [
    "# Multi Layer Perceptron Model\n",
    "def multilayer_perceptron(x, weights, biases):\n",
    "    '''\n",
    "    Explanation to come soon\n",
    "    '''\n",
    "    \n",
    "    # First hidden layer with RELU activation function \n",
    "    layer_1 = tf.add(tf.matmul(x,weights['h1']), biases['b1'])\n",
    "    layer_1 = tf.nn.relu(layer_1)\n",
    "    \n",
    "    # Second layer\n",
    "    layer_2 = tf.add(tf.matmul(layer_1,weights['h2']), biases['b2'])\n",
    "    layer_2 = tf.nn.relu(layer_2)\n",
    "    \n",
    "    #Third layer/ Final Output\n",
    "    layer_out = tf.add(tf.matmul(layer_2, weights['out']), biases['out'])\n",
    "    return layer_out"
   ]
  },
  {
   "cell_type": "code",
   "execution_count": 6,
   "metadata": {},
   "outputs": [],
   "source": [
    "# Weights and biases\n",
    "weights = {\n",
    "    'h1': tf.Variable(tf.random_normal([n_input, n_hidden_1])),\n",
    "    'h2': tf.Variable(tf.random_normal([n_hidden_1, n_hidden_2])),\n",
    "    'out': tf.Variable(tf.random_normal([n_hidden_2, n_classes]))\n",
    "}\n",
    "\n",
    "biases = {\n",
    "    'b1': tf.Variable(tf.random_normal([n_hidden_1])),\n",
    "    'b2': tf.Variable(tf.random_normal([n_hidden_2])),\n",
    "    'out': tf.Variable(tf.random_normal([n_classes]))\n",
    "}"
   ]
  },
  {
   "cell_type": "code",
   "execution_count": 7,
   "metadata": {},
   "outputs": [],
   "source": [
    "# Prediction label\n",
    "pred = multilayer_perceptron(x, weights, biases)"
   ]
  },
  {
   "cell_type": "code",
   "execution_count": 8,
   "metadata": {},
   "outputs": [],
   "source": [
    "# Cost/Loss and Optimizer Functions\n",
    "cost = tf.reduce_mean(tf.nn.softmax_cross_entropy_with_logits_v2(labels = y, logits = pred))\n",
    "optimizer = tf.train.RMSPropOptimizer(learning_rate = learning_rate).minimize(cost)"
   ]
  },
  {
   "cell_type": "code",
   "execution_count": 9,
   "metadata": {},
   "outputs": [],
   "source": [
    "# Initialize global variables\n",
    "init = tf.global_variables_initializer()"
   ]
  },
  {
   "cell_type": "code",
   "execution_count": 10,
   "metadata": {},
   "outputs": [
    {
     "name": "stdout",
     "output_type": "stream",
     "text": [
      "Epoch: 1 cost = 139.5310\n",
      "Epoch: 2 cost = 31.6080\n",
      "Epoch: 3 cost = 19.5226\n",
      "Epoch: 4 cost = 13.4747\n",
      "Epoch: 5 cost = 9.8059\n",
      "Epoch: 6 cost = 7.2854\n",
      "Epoch: 7 cost = 5.4296\n",
      "Epoch: 8 cost = 4.1630\n",
      "Epoch: 9 cost = 3.2141\n",
      "Epoch: 10 cost = 2.5314\n",
      "Epoch: 11 cost = 2.0361\n",
      "Epoch: 12 cost = 1.5769\n",
      "Epoch: 13 cost = 1.2311\n",
      "Epoch: 14 cost = 0.9639\n",
      "Epoch: 15 cost = 0.7858\n",
      "Epoch: 16 cost = 0.6240\n",
      "Epoch: 17 cost = 0.5126\n",
      "Epoch: 18 cost = 0.4803\n",
      "Epoch: 19 cost = 0.3740\n",
      "Epoch: 20 cost = 0.3397\n",
      "Epoch: 21 cost = 0.2873\n",
      "Epoch: 22 cost = 0.2506\n",
      "Epoch: 23 cost = 0.2357\n",
      "Epoch: 24 cost = 0.2417\n",
      "Epoch: 25 cost = 0.2106\n",
      "Epoch: 26 cost = 0.1927\n",
      "Epoch: 27 cost = 0.1844\n",
      "Epoch: 28 cost = 0.1401\n",
      "Epoch: 29 cost = 0.1335\n",
      "Epoch: 30 cost = 0.1440\n",
      "Epoch: 31 cost = 0.1495\n",
      "Epoch: 32 cost = 0.1080\n",
      "Epoch: 33 cost = 0.1154\n",
      "Epoch: 34 cost = 0.1222\n",
      "Epoch: 35 cost = 0.1345\n",
      "Epoch: 36 cost = 0.1057\n",
      "Epoch: 37 cost = 0.1065\n",
      "Epoch: 38 cost = 0.0943\n",
      "Epoch: 39 cost = 0.1057\n",
      "Epoch: 40 cost = 0.0900\n",
      "Epoch: 41 cost = 0.0950\n",
      "Epoch: 42 cost = 0.0832\n",
      "Epoch: 43 cost = 0.0932\n",
      "Epoch: 44 cost = 0.0802\n",
      "Epoch: 45 cost = 0.0897\n",
      "Epoch: 46 cost = 0.0725\n",
      "Epoch: 47 cost = 0.0761\n",
      "Epoch: 48 cost = 0.0654\n",
      "Epoch: 49 cost = 0.0726\n",
      "Epoch: 50 cost = 0.0632\n",
      "Epoch: 51 cost = 0.0588\n",
      "Epoch: 52 cost = 0.0526\n",
      "Epoch: 53 cost = 0.0656\n",
      "Epoch: 54 cost = 0.0506\n",
      "Epoch: 55 cost = 0.0526\n",
      "Epoch: 56 cost = 0.0648\n",
      "Epoch: 57 cost = 0.0680\n",
      "Epoch: 58 cost = 0.0583\n",
      "Epoch: 59 cost = 0.0473\n",
      "Epoch: 60 cost = 0.0720\n",
      "Epoch: 61 cost = 0.0527\n",
      "Epoch: 62 cost = 0.0478\n",
      "Epoch: 63 cost = 0.0494\n",
      "Epoch: 64 cost = 0.0531\n",
      "Epoch: 65 cost = 0.0473\n",
      "Epoch: 66 cost = 0.0580\n",
      "Epoch: 67 cost = 0.0405\n",
      "Epoch: 68 cost = 0.0418\n",
      "Epoch: 69 cost = 0.0402\n",
      "Epoch: 70 cost = 0.0418\n",
      "Epoch: 71 cost = 0.0414\n",
      "Epoch: 72 cost = 0.0479\n",
      "Epoch: 73 cost = 0.0397\n",
      "Epoch: 74 cost = 0.0417\n",
      "Epoch: 75 cost = 0.0511\n",
      "Epoch: 76 cost = 0.0383\n",
      "Epoch: 77 cost = 0.0395\n",
      "Epoch: 78 cost = 0.0410\n",
      "Epoch: 79 cost = 0.0348\n",
      "Epoch: 80 cost = 0.0463\n",
      "Epoch: 81 cost = 0.0358\n",
      "Epoch: 82 cost = 0.0387\n",
      "Epoch: 83 cost = 0.0423\n",
      "Epoch: 84 cost = 0.0379\n",
      "Epoch: 85 cost = 0.0517\n",
      "Epoch: 86 cost = 0.0216\n",
      "Epoch: 87 cost = 0.0320\n",
      "Epoch: 88 cost = 0.0344\n",
      "Epoch: 89 cost = 0.0423\n",
      "Epoch: 90 cost = 0.0288\n",
      "Epoch: 91 cost = 0.0298\n",
      "Epoch: 92 cost = 0.0279\n",
      "Epoch: 93 cost = 0.0277\n",
      "Epoch: 94 cost = 0.0241\n",
      "Epoch: 95 cost = 0.0266\n",
      "Epoch: 96 cost = 0.0257\n",
      "Epoch: 97 cost = 0.0218\n",
      "Epoch: 98 cost = 0.0330\n",
      "Epoch: 99 cost = 0.0242\n",
      "Epoch: 100 cost = 0.0196\n",
      "Model has completed 100 Epochs of traning\n"
     ]
    }
   ],
   "source": [
    "# Session - run and evaluate\n",
    "sess = tf.InteractiveSession()\n",
    "sess.run(init)\n",
    "\n",
    "for epoch in range(training_epochs):\n",
    "    avg_cost = 0.0\n",
    "    total_batch = int(n_samples/batch_size)\n",
    "    \n",
    "    # Loop over all batches\n",
    "    for i in range(total_batch):\n",
    "        #Grab the next batch for training the data and labels \n",
    "        batch_x, batch_y = mnist.train.next_batch(batch_size)\n",
    "        #Feed into dictionary in order to optimize and minimize loss\n",
    "        _, c = sess.run([optimizer, cost], feed_dict = {x:batch_x, y:batch_y})\n",
    "        #compute avg loss \n",
    "        avg_cost += c / total_batch\n",
    "        \n",
    "    print(\"Epoch: {} cost = {:.4f}\".format(epoch + 1, avg_cost))\n",
    "    \n",
    "print(\"Model has completed {} Epochs of traning\".format(training_epochs))"
   ]
  },
  {
   "cell_type": "code",
   "execution_count": 11,
   "metadata": {},
   "outputs": [],
   "source": [
    "# Model Testing and Evaluation\n",
    "correct_predictions = tf.equal(tf.argmax(pred, 1), tf.argmax(y, 1))"
   ]
  },
  {
   "cell_type": "code",
   "execution_count": 13,
   "metadata": {},
   "outputs": [
    {
     "name": "stdout",
     "output_type": "stream",
     "text": [
      "Tensor(\"strided_slice_1:0\", shape=(), dtype=bool)\n"
     ]
    }
   ],
   "source": [
    "print(correct_predictions[0])"
   ]
  },
  {
   "cell_type": "code",
   "execution_count": 14,
   "metadata": {},
   "outputs": [],
   "source": [
    "correct_predictions = tf.cast(correct_predictions, \"float\")\n"
   ]
  },
  {
   "cell_type": "code",
   "execution_count": 15,
   "metadata": {},
   "outputs": [],
   "source": [
    "accuracy = tf.reduce_mean(correct_predictions)"
   ]
  },
  {
   "cell_type": "code",
   "execution_count": 16,
   "metadata": {},
   "outputs": [
    {
     "data": {
      "text/plain": [
       "tensorflow.python.framework.ops.Tensor"
      ]
     },
     "execution_count": 16,
     "metadata": {},
     "output_type": "execute_result"
    }
   ],
   "source": [
    "type(accuracy)"
   ]
  },
  {
   "cell_type": "code",
   "execution_count": 17,
   "metadata": {},
   "outputs": [
    {
     "name": "stdout",
     "output_type": "stream",
     "text": [
      "Accuracy: 0.958\n"
     ]
    }
   ],
   "source": [
    "print(\"Accuracy:\", accuracy.eval({x:mnist.test.images, y:mnist.test.labels}))"
   ]
  },
  {
   "cell_type": "code",
   "execution_count": null,
   "metadata": {},
   "outputs": [],
   "source": []
  }
 ],
 "metadata": {
  "kernelspec": {
   "display_name": "Python 3",
   "language": "python",
   "name": "python3"
  },
  "language_info": {
   "codemirror_mode": {
    "name": "ipython",
    "version": 3
   },
   "file_extension": ".py",
   "mimetype": "text/x-python",
   "name": "python",
   "nbconvert_exporter": "python",
   "pygments_lexer": "ipython3",
   "version": "3.6.5"
  }
 },
 "nbformat": 4,
 "nbformat_minor": 2
}
