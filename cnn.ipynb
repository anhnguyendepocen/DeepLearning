{
 "cells": [
  {
   "cell_type": "code",
   "execution_count": 1,
   "metadata": {},
   "outputs": [],
   "source": [
    "#Import Libraries\n",
    "import numpy as np\n",
    "import pandas as pd\n",
    "import torch\n",
    "import torch.nn as nn\n",
    "import torch.nn.functional as F\n",
    "import torch.utils.data\n",
    "from torch.autograd import Variable\n",
    "from sklearn.model_selection import train_test_split"
   ]
  },
  {
   "cell_type": "code",
   "execution_count": 2,
   "metadata": {},
   "outputs": [
    {
     "name": "stdout",
     "output_type": "stream",
     "text": [
      "(42000, 785)\n"
     ]
    }
   ],
   "source": [
    "#Read in csv\n",
    "df = pd.read_csv ('/Users/tanushrisingh/Desktop/Spring 2019/Big Data Management/Assignment4/digit-recognizer/train.csv')\n",
    "print(df.shape)"
   ]
  },
  {
   "cell_type": "code",
   "execution_count": 3,
   "metadata": {},
   "outputs": [
    {
     "name": "stdout",
     "output_type": "stream",
     "text": [
      "(6300,)\n"
     ]
    }
   ],
   "source": [
    "y=df['label'].values\n",
    "x=df.drop(['label'],1).values\n",
    "x_train, x_test, y_train, y_test = train_test_split(x, y, test_size=0.15)\n",
    "print(y_test.shape)"
   ]
  },
  {
   "cell_type": "code",
   "execution_count": 4,
   "metadata": {},
   "outputs": [],
   "source": [
    "batch_size = 32\n",
    "torch_x_trn = torch.from_numpy(x_train).type(torch.LongTensor)\n",
    "torch_y_trn = torch.from_numpy(y_train).type(torch.LongTensor)\n",
    "\n",
    "#Creating features/targets\n",
    "torch_x_tst = torch.from_numpy(x_test).type(torch.LongTensor)\n",
    "torch_y_tst = torch.from_numpy(y_test).type(torch.LongTensor)\n",
    "\n",
    "#Perform traning and testing\n",
    "trn = torch.utils.data.TensorDataset(torch_x_trn, torch_y_trn)\n",
    "tst = torch.utils.data.TensorDataset(torch_x_tst, torch_y_tst)\n",
    "\n",
    "#Load into data\n",
    "train_load = torch.utils.data.DataLoader(trn, batch_size=batch_size, shuffle=False)\n",
    "test_load = torch.utils.data.DataLoader(tst, batch_size=batch_size, shuffle=False)"
   ]
  },
  {
   "cell_type": "code",
   "execution_count": 5,
   "metadata": {},
   "outputs": [
    {
     "name": "stdout",
     "output_type": "stream",
     "text": [
      "Net(\n",
      "  (linear1): Linear(in_features=784, out_features=250, bias=True)\n",
      "  (linear2): Linear(in_features=250, out_features=100, bias=True)\n",
      "  (linear3): Linear(in_features=100, out_features=10, bias=True)\n",
      ")\n"
     ]
    }
   ],
   "source": [
    "class Net(nn.Module):\n",
    "    def __init__(self):\n",
    "        super(Net, self).__init__()\n",
    "        self.linear1=nn.Linear(784,250)\n",
    "        self.linear2=nn.Linear(250,100)\n",
    "        self.linear3=nn.Linear(100,10)\n",
    "        \n",
    "    def forward(self,x):\n",
    "        x=F.relu(self.linear1(x))\n",
    "        x=F.relu(self.linear2(x))\n",
    "        x=self.linear3(x)\n",
    "        return F.log_softmax(x,dim=1)\n",
    "    \n",
    "net = Net()\n",
    "print(net)"
   ]
  },
  {
   "cell_type": "code",
   "execution_count": 6,
   "metadata": {},
   "outputs": [],
   "source": [
    "def fitModel(model, train_load):\n",
    "    optimizer = torch.optim.Adam(model.parameters())\n",
    "    err = nn.CrossEntropyLoss()\n",
    "    epochs = 5\n",
    "    model.train()\n",
    "    for epoch in range(epochs):\n",
    "        correct = 0\n",
    "        for batchIndex, (x_batch, y_batch) in enumerate(train_load):\n",
    "            var_x_batch = Variable(x_batch).float()\n",
    "            var_y_batch = Variable(y_batch)\n",
    "            optimizer.zero_grad()\n",
    "            output = model(var_x_batch)\n",
    "            loss = err(output, var_y_batch)\n",
    "            loss.backward()\n",
    "            optimizer.step()\n",
    "            \n",
    "            predict = torch.max(output.data, 1)[1]\n",
    "            correct = (predict == var_y_batch).sum() + correct\n",
    "            \n",
    "            if batchIndex%50 == 0:\n",
    "               print('Epoch : {}\\t Accuracy:{:.3f}%'.format(epoch, float(correct*100) / float(batch_size*(batchIndex+1))))\n",
    "            "
   ]
  },
  {
   "cell_type": "code",
   "execution_count": null,
   "metadata": {},
   "outputs": [
    {
     "name": "stdout",
     "output_type": "stream",
     "text": [
      "Epoch : 0\t Accuracy:6.250%\n",
      "Epoch : 0\t Accuracy:65.993%\n",
      "Epoch : 0\t Accuracy:74.938%\n",
      "Epoch : 0\t Accuracy:78.974%\n",
      "Epoch : 0\t Accuracy:81.297%\n",
      "Epoch : 0\t Accuracy:83.155%\n",
      "Epoch : 0\t Accuracy:84.417%\n",
      "Epoch : 0\t Accuracy:85.301%\n",
      "Epoch : 0\t Accuracy:86.004%\n",
      "Epoch : 0\t Accuracy:86.648%\n",
      "Epoch : 0\t Accuracy:87.088%\n",
      "Epoch : 0\t Accuracy:87.528%\n",
      "Epoch : 0\t Accuracy:87.916%\n",
      "Epoch : 0\t Accuracy:88.201%\n",
      "Epoch : 0\t Accuracy:88.583%\n",
      "Epoch : 0\t Accuracy:88.902%\n",
      "Epoch : 0\t Accuracy:89.217%\n",
      "Epoch : 0\t Accuracy:89.472%\n",
      "Epoch : 0\t Accuracy:89.720%\n",
      "Epoch : 0\t Accuracy:89.859%\n",
      "Epoch : 0\t Accuracy:90.069%\n",
      "Epoch : 0\t Accuracy:90.271%\n",
      "Epoch : 0\t Accuracy:90.460%\n",
      "Epoch : 1\t Accuracy:96.875%\n",
      "Epoch : 1\t Accuracy:94.179%\n",
      "Epoch : 1\t Accuracy:94.183%\n",
      "Epoch : 1\t Accuracy:94.123%\n",
      "Epoch : 1\t Accuracy:94.108%\n",
      "Epoch : 1\t Accuracy:94.447%\n",
      "Epoch : 1\t Accuracy:94.414%\n",
      "Epoch : 1\t Accuracy:94.560%\n",
      "Epoch : 1\t Accuracy:94.599%\n",
      "Epoch : 1\t Accuracy:94.741%\n",
      "Epoch : 1\t Accuracy:94.711%\n",
      "Epoch : 1\t Accuracy:94.725%\n",
      "Epoch : 1\t Accuracy:94.795%\n",
      "Epoch : 1\t Accuracy:94.868%\n",
      "Epoch : 1\t Accuracy:94.864%\n",
      "Epoch : 1\t Accuracy:94.928%\n",
      "Epoch : 1\t Accuracy:95.022%\n",
      "Epoch : 1\t Accuracy:95.050%\n",
      "Epoch : 1\t Accuracy:95.096%\n",
      "Epoch : 1\t Accuracy:95.084%\n",
      "Epoch : 1\t Accuracy:95.149%\n",
      "Epoch : 1\t Accuracy:95.180%\n",
      "Epoch : 1\t Accuracy:95.189%\n",
      "Epoch : 2\t Accuracy:93.750%\n",
      "Epoch : 2\t Accuracy:95.895%\n",
      "Epoch : 2\t Accuracy:96.040%\n",
      "Epoch : 2\t Accuracy:96.171%\n",
      "Epoch : 2\t Accuracy:95.927%\n",
      "Epoch : 2\t Accuracy:95.991%\n",
      "Epoch : 2\t Accuracy:95.868%\n",
      "Epoch : 2\t Accuracy:95.976%\n",
      "Epoch : 2\t Accuracy:95.963%\n",
      "Epoch : 2\t Accuracy:95.940%\n",
      "Epoch : 2\t Accuracy:95.921%\n",
      "Epoch : 2\t Accuracy:95.911%\n",
      "Epoch : 2\t Accuracy:95.934%\n",
      "Epoch : 2\t Accuracy:95.881%\n",
      "Epoch : 2\t Accuracy:95.885%\n",
      "Epoch : 2\t Accuracy:95.930%\n",
      "Epoch : 2\t Accuracy:95.993%\n",
      "Epoch : 2\t Accuracy:96.027%\n",
      "Epoch : 2\t Accuracy:96.039%\n",
      "Epoch : 2\t Accuracy:96.027%\n",
      "Epoch : 2\t Accuracy:96.076%\n",
      "Epoch : 2\t Accuracy:96.111%\n",
      "Epoch : 2\t Accuracy:96.083%\n",
      "Epoch : 3\t Accuracy:93.750%\n",
      "Epoch : 3\t Accuracy:96.017%\n",
      "Epoch : 3\t Accuracy:96.040%\n",
      "Epoch : 3\t Accuracy:96.109%\n",
      "Epoch : 3\t Accuracy:96.160%\n",
      "Epoch : 3\t Accuracy:96.153%\n",
      "Epoch : 3\t Accuracy:96.283%\n",
      "Epoch : 3\t Accuracy:96.216%\n",
      "Epoch : 3\t Accuracy:96.205%\n",
      "Epoch : 3\t Accuracy:96.307%\n",
      "Epoch : 3\t Accuracy:96.251%\n",
      "Epoch : 3\t Accuracy:96.331%\n"
     ]
    }
   ],
   "source": [
    "fitModel(net,train_load)"
   ]
  },
  {
   "cell_type": "code",
   "execution_count": null,
   "metadata": {},
   "outputs": [],
   "source": [
    "def evaluate(model):\n",
    "#model = net\n",
    "    correct = 0 \n",
    "    for test_imgs, test_labels in test_load:\n",
    "        #print(test_imgs.shape)\n",
    "        test_imgs = Variable(test_imgs).float()\n",
    "        output = model(test_imgs)\n",
    "        predicted = torch.max(output,1)[1]\n",
    "        correct += (predicted == test_labels).sum()\n",
    "    print(\"Test accuracy -> {:.3f}% \".format( float(correct) / (len(test_load)*batch_size)))\n",
    "evaluate(net)"
   ]
  }
 ],
 "metadata": {
  "kernelspec": {
   "display_name": "Python 3",
   "language": "python",
   "name": "python3"
  },
  "language_info": {
   "codemirror_mode": {
    "name": "ipython",
    "version": 3
   },
   "file_extension": ".py",
   "mimetype": "text/x-python",
   "name": "python",
   "nbconvert_exporter": "python",
   "pygments_lexer": "ipython3",
   "version": "3.6.8"
  }
 },
 "nbformat": 4,
 "nbformat_minor": 2
}
